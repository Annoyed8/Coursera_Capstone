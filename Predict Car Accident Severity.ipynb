{
 "cells": [
  {
   "cell_type": "markdown",
   "metadata": {
    "collapsed": true
   },
   "source": [
    "### Introduction/Business Problem ###"
   ]
  },
  {
   "cell_type": "markdown",
   "metadata": {},
   "source": [
    "The final project of IBM capstone project is to predict the severity of car accident in term of human fatality, traffic delay, property damage, or any other type of impact of accident.  The data was provided by Coursera and collected by Seattle SPOT traffic management division. The data is from 2004. The data contains information such as severity code, address type, location, collision type, weather, road condition, speeding, among others."
   ]
  },
  {
   "cell_type": "markdown",
   "metadata": {},
   "source": [
    "### Data ###"
   ]
  },
  {
   "cell_type": "markdown",
   "metadata": {},
   "source": [
    "There are 194,673 observations and 38 variables in this data set.  To find the main factor of the severity of the accident and the level of severity, we will use SEVERITYCODE as our dependent variable Y, and try different combinations of independent variables X to get the result. The information is huge and to make it accurate we will have to remove out any missing value and unrelated columns.\n",
    "\n",
    "The target Data to be predicted under (SEVERITYCODE 1-prop damage 2-injury) label.\n",
    "\n",
    "Other important variables include:• ADDRTYPE: Collision address type: Alley, Block, Intersection• LOCATION: Description of the general location of the collision• PERSONCOUNT: The total number of people involved in the collision helps identify severity involved• PEDCOUNT: The number of pedestrians involved in the collision helps identify severity involved• PEDCYLCOUNT: The number of bicycles involved in the collision helps identify severity involved• VEHCOUNT: The number of vehicles involved in the collision identify severity involved• JUNCTIONTYPE: Category of junction at which collision took place helps identify where most collisions occur• WEATHER: A description of the weather conditions during the time of the collision• ROADCOND: The condition of the road during the collision• LIGHTCOND: The light conditions during the collision• SPEEDING: Whether or not speeding was a factor in the collision (Y/N)• SEGLANEKEY: A key for the lane segment in which the collision occurred• CROSSWALKKEY: A key for the crosswalk at which the collision occurred• HITPARKEDCAR: Whether or not the collision involved hitting a parked car"
   ]
  },
  {
   "cell_type": "code",
   "execution_count": null,
   "metadata": {},
   "outputs": [],
   "source": []
  }
 ],
 "metadata": {
  "kernelspec": {
   "display_name": "Python 3.6",
   "language": "python",
   "name": "python3"
  },
  "language_info": {
   "codemirror_mode": {
    "name": "ipython",
    "version": 3
   },
   "file_extension": ".py",
   "mimetype": "text/x-python",
   "name": "python",
   "nbconvert_exporter": "python",
   "pygments_lexer": "ipython3",
   "version": "3.6.9"
  }
 },
 "nbformat": 4,
 "nbformat_minor": 1
}
